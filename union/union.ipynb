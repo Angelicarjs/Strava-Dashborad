{
 "cells": [
  {
   "cell_type": "markdown",
   "id": "b90d491d",
   "metadata": {},
   "source": [
    "## Strava Data Analysis\n",
    "\n",
    "This notebook join all the analysis made individually for the strava data as a final project for Practice: Software Development(Python) course. "
   ]
  },
  {
   "cell_type": "code",
   "execution_count": null,
   "id": "693cd393",
   "metadata": {},
   "outputs": [],
   "source": [
    "#Check the functions available in the .py\n",
    "import strava_analysis\n",
    "dir(strava_analysis)\n"
   ]
  },
  {
   "cell_type": "code",
   "execution_count": null,
   "id": "fbbbc0cd",
   "metadata": {},
   "outputs": [],
   "source": [
    "# Import your functions\n",
    "from strava_analysis import load_strava_data, plot_speed_distribution, extract_lat_lon, map_df, map_activities_colored_by_speed"
   ]
  },
  {
   "cell_type": "markdown",
   "id": "f564910c",
   "metadata": {},
   "source": [
    "### 1. Load the data\n",
    "We use a function `load_strava_data()` that selects relevant columns, parses dates, and removes incomplete rows.\n"
   ]
  },
  {
   "cell_type": "code",
   "execution_count": null,
   "id": "29514341",
   "metadata": {},
   "outputs": [],
   "source": [
    "#Use first function, upload the data\n",
    "df = load_strava_data(\"../LeafletUpdates/nicole_strava.csv\")\n",
    "df"
   ]
  },
  {
   "cell_type": "markdown",
   "id": "2323e4cd",
   "metadata": {},
   "source": [
    "### 2. Visualize Speed\n",
    "The function `plot_speed_distribution()` compares the average and max speeds using histograms.\n"
   ]
  },
  {
   "cell_type": "code",
   "execution_count": null,
   "id": "4c4dcc53",
   "metadata": {},
   "outputs": [],
   "source": [
    "# plot speed distribution\n",
    "plot_speed_distribution(df)"
   ]
  },
  {
   "cell_type": "markdown",
   "id": "38ab9dbb",
   "metadata": {},
   "source": [
    "### 3.  Extract latitude and longitude\n",
    "\n",
    "With `extract_lat_lon()`, we extract in two columns for each couple of coordenates separated information."
   ]
  },
  {
   "cell_type": "code",
   "execution_count": null,
   "id": "da9e01d0",
   "metadata": {},
   "outputs": [],
   "source": [
    "df['start_lat'], df['start_lon'] = zip(*df['start_latlng'].map(extract_lat_lon))\n",
    "df['end_lat'], df['end_lon'] = zip(*df['end_latlng'].map(extract_lat_lon))\n",
    "df"
   ]
  },
  {
   "cell_type": "markdown",
   "id": "484bcb34",
   "metadata": {},
   "source": [
    "### 4. Map the Activity starts and end points\n",
    "With `map_df()`, we visualize where each activity began using folium.\n"
   ]
  },
  {
   "cell_type": "code",
   "execution_count": null,
   "id": "934871a1",
   "metadata": {},
   "outputs": [],
   "source": [
    "#Show activity start points\n",
    "fmap = map_df(df)\n",
    "fmap"
   ]
  },
  {
   "cell_type": "markdown",
   "id": "d118e616",
   "metadata": {},
   "source": [
    "### 5. Map of average speead start points\n",
    "With `map_activities_colored_by_speed()`, we visualize the activity start point color-coded by average speed."
   ]
  },
  {
   "cell_type": "code",
   "execution_count": null,
   "id": "1dd53e6e",
   "metadata": {},
   "outputs": [],
   "source": [
    "speed_map = map_activities_colored_by_speed(df)\n",
    "speed_map"
   ]
  },
  {
   "cell_type": "markdown",
   "id": "29985818",
   "metadata": {},
   "source": [
    "# More geostatistical analysis"
   ]
  },
  {
   "cell_type": "code",
   "execution_count": null,
   "id": "74e65d52",
   "metadata": {},
   "outputs": [],
   "source": [
    "from strava_analysis import (\n",
    "    load_strava_data,\n",
    "    advanced_hotspot_analysis,\n",
    "    spatial_clustering_analysis,\n",
    "    create_activity_locations_plot,\n",
    "    create_hotspots_plot,\n",
    "    create_performance_distributions_plot,\n",
    "    create_temporal_patterns_plot,\n",
    "    create_correlation_heatmap,\n",
    "    create_distance_speed_scatter,\n",
    "    create_clusters_plot,\n",
    "    create_interactive_map,\n",
    "    create_dashboard_html,\n",
    "    display_html_map_simple,\n",
    "    generate_comprehensive_report,\n",
    "    main_analysis\n",
    ")"
   ]
  },
  {
   "cell_type": "code",
   "execution_count": null,
   "id": "d6e9f5c3",
   "metadata": {},
   "outputs": [],
   "source": [
    "\n",
    "csv_file = \"../LeafletUpdates/nicole_strava.csv\"\n",
    "\n",
    "results = main_analysis(csv_file)\n",
    "\n",
    "gdf, hotspots, clusters = results\n",
    "print(f\"\\nQuick summary:\")\n",
    "print(f\"• Analyzed {len(gdf):,} activities\")\n",
    "print(f\"• Total distance: {gdf['distance_km'].sum():,.0f} km\")\n",
    "print(f\"• Average speed: {gdf['speed_kmh'].mean():.1f} km/h\")\n",
    "if clusters is not None and len(clusters) > 0:\n",
    "    print(f\"• found {len(clusters)} spatial clusters\")\n",
    "\n",
    "print(\"\\nall visualizations are now separate files!\")\n",
    "print(\"interactive map displayed above (if supported)\")\n",
    "print(\"open strava_dashboard.html for a beautiful overview!\")"
   ]
  },
  {
   "cell_type": "code",
   "execution_count": null,
   "id": "5d47ae47",
   "metadata": {},
   "outputs": [],
   "source": [
    "from IPython.display import HTML\n",
    "import base64\n",
    "\n",
    "with open('strava_interactive_map.html', 'r', encoding='utf-8') as f:\n",
    "    html_content = f.read()\n",
    "\n",
    "iframe_html = f'''\n",
    "<iframe srcdoc=\"{html_content.replace('\"', '&quot;')}\"\n",
    "        width=\"100%\" height=\"600\" frameborder=\"0\">\n",
    "</iframe>\n",
    "'''\n",
    "HTML(iframe_html)"
   ]
  },
  {
   "cell_type": "code",
   "execution_count": null,
   "id": "02a5e8f9",
   "metadata": {},
   "outputs": [],
   "source": [
    "with open('strava_dashboard.html', 'r', encoding='utf-8') as f:\n",
    "    html_content = f.read()\n",
    "\n",
    "iframe_html = f'''\n",
    "<iframe srcdoc=\"{html_content.replace('\"', '&quot;')}\"\n",
    "        width=\"100%\" height=\"600\" frameborder=\"0\">\n",
    "</iframe>\n",
    "'''\n",
    "HTML(iframe_html)"
   ]
  },
  {
   "cell_type": "markdown",
   "id": "58edf1ec",
   "metadata": {},
   "source": [
    "# Creation of the speed and frequency heatmap layers \n",
    "\n",
    "## Firstly imports packages and functions, and then goes on to configure the map itself.\n"
   ]
  },
  {
   "cell_type": "code",
   "execution_count": null,
   "id": "850ebf42",
   "metadata": {},
   "outputs": [],
   "source": [
    "import pandas as pd\n",
    "import numpy as np\n",
    "import folium\n",
    "from folium.plugins import HeatMap\n",
    "import polyline\n",
    "from collections import defaultdict\n",
    "from strava_analysis import create_heatmap_data, decode_polyline, create_base_map, add_heatmap_layers, add_legend, add_layer_control"
   ]
  },
  {
   "cell_type": "markdown",
   "id": "3b219467",
   "metadata": {},
   "source": [
    "## Call to the function and create heat map\n",
    "\n",
    "This section generates an interactive heatmap of the Strava activities using the create_heatmap function. The function reads activity data from a CSV file, decodes the GPS polylines, and computes two types of heatmap layers: one showing the frequency of activity across routes, and another visualizing the average speed along those routes.\n",
    "\n",
    "The map is currently configured to center over Salzburg, and users can toggle between the speed and  in the map layers.\n",
    "\n",
    "The final interactive map is saved as an HTML."
   ]
  },
  {
   "cell_type": "code",
   "execution_count": null,
   "id": "b614114d",
   "metadata": {},
   "outputs": [],
   "source": [
    "\n",
    "def create_heatmap(csv_file, polyline_column, speed_column, center, zoom, output_file):\n",
    "    \"\"\"\n",
    "    Main function to create the complete heatmap\n",
    "    \"\"\"\n",
    "    # Load data \n",
    "    print(\"Loading CSV...\")\n",
    "    df = pd.read_csv(csv_file)\n",
    "    print(f\"Loaded {len(df)} activities from CSV\")\n",
    "    \n",
    "    # Process coordinates (using existing create_heatmap_data function)  \n",
    "    freq_coords, speed_coords = create_heatmap_data(df, polyline_column, speed_column)\n",
    "    \n",
    "    if not freq_coords and not speed_coords:\n",
    "        print(\"No valid coordinates found. Check your CSV file and columns.\")\n",
    "        return None\n",
    "    \n",
    "    # Create map with all components\n",
    "    m = create_base_map(center, zoom)\n",
    "    m = add_heatmap_layers(m, freq_coords, speed_coords)\n",
    "    m = add_legend(m)\n",
    "    m = add_layer_control(m)\n",
    "    \n",
    "    # Save map\n",
    "    m.save(output_file)\n",
    "    print(f\"Heatmap saved as: {output_file}\")\n",
    "    return m\n",
    "\n",
    "# Configuration\n",
    "CSV_FILE = \"strava_data.csv\"\n",
    "POLYLINE_COLUMN = 'map.summary_polyline'\n",
    "SPEED_COLUMN = 'average_speed'\n",
    "SALZBURG_CENTER = (47.8095, 13.0550)\n",
    "ZOOM_LEVEL = 10\n",
    "OUTPUT_FILE = 'strava_salzburg_heatmap.html'\n",
    "\n",
    "create_heatmap(CSV_FILE, POLYLINE_COLUMN, SPEED_COLUMN, SALZBURG_CENTER, ZOOM_LEVEL, OUTPUT_FILE)"
   ]
  }
 ],
 "metadata": {
  "kernelspec": {
   "display_name": "base",
   "language": "python",
   "name": "python3"
  },
  "language_info": {
   "codemirror_mode": {
    "name": "ipython",
    "version": 3
   },
   "file_extension": ".py",
   "mimetype": "text/x-python",
   "name": "python",
   "nbconvert_exporter": "python",
   "pygments_lexer": "ipython3",
   "version": "3.12.9"
  }
 },
 "nbformat": 4,
 "nbformat_minor": 5
}
