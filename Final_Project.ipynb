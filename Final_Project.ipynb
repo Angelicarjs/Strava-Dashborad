{
 "cells": [
  {
   "cell_type": "code",
   "execution_count": 3,
   "id": "0a436042-2ff4-4104-9368-8bd9442b33ac",
   "metadata": {},
   "outputs": [],
   "source": [
    "client_id = '160433'\n",
    "token = '97156770f2ae90999fedd59dffa9f1bf005c7d16'\n",
    "key = 'https://www.strava.com/oauth/authorize?client_id='+client_id+'&response_type=code&redirect_uri=http://localhost/exchange_token&approval_prompt=force&scope=activity:read_all'\n",
    "code = 'bca6abfb35a6b43086afdb49d79e459f730e293f'\n",
    "refresh_token = '0b3c245808ff46c3835c9e5becada70404d1980f'\n",
    "\n",
    "sport = 'cycling'"
   ]
  },
  {
   "cell_type": "code",
   "execution_count": 3,
   "id": "718b78fe-689f-4d40-9140-c917ce54428a",
   "metadata": {},
   "outputs": [],
   "source": [
    "echo \"CLIENT_ID=160433\" >> .env\n",
    "echo \"CLIENT_SECRET=97156770f2ae90999fedd59dffa9f1bf005c7d16\" >> .env\n",
    "echo \"REFRESH_TOKEN=0b3c245808ff46c3835c9e5becada70404d1980f\" >> .env\n"
   ]
  }
 ],
 "metadata": {
  "kernelspec": {
   "display_name": "Python 3 (ipykernel)",
   "language": "python",
   "name": "python3"
  },
  "language_info": {
   "codemirror_mode": {
    "name": "ipython",
    "version": 3
   },
   "file_extension": ".py",
   "mimetype": "text/x-python",
   "name": "python",
   "nbconvert_exporter": "python",
   "pygments_lexer": "ipython3",
   "version": "3.8.8"
  }
 },
 "nbformat": 4,
 "nbformat_minor": 5
}
